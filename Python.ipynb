{
 "cells": [
  {
   "cell_type": "markdown",
   "id": "93b51325",
   "metadata": {},
   "source": [
    "# Домашнее задание 1"
   ]
  },
  {
   "cell_type": "markdown",
   "id": "ff0ae10c",
   "metadata": {},
   "source": [
    "## Условие 1:"
   ]
  },
  {
   "cell_type": "markdown",
   "id": "1186028a",
   "metadata": {},
   "source": [
    "Оформляйте ноутбук, используя эти советы:\n",
    "Номер задачи - заголовок 2\n",
    "Номер подзадачи - заголовок 3\n",
    "Предоставленные наборы данных оформляйте, как код\n",
    "Рекомендации для преподавателей по оценке задания:\n",
    "Смотреть, чтобы студент красиво оформлял ноутбук, использовал ячейки с текстом, указывал номера заданий"
   ]
  },
  {
   "cell_type": "markdown",
   "id": "67d88679",
   "metadata": {},
   "source": [
    "## Условие 2:"
   ]
  },
  {
   "cell_type": "markdown",
   "id": "9e96660f",
   "metadata": {},
   "source": [
    "На складе лежат разные фрукты в разном количестве. Нужно написать функцию, которая на вход принимает любое количество названий фруктов и их количество, а возвращает общее количество фруктов на складе."
   ]
  },
  {
   "cell_type": "code",
   "execution_count": 80,
   "id": "b0f04b99",
   "metadata": {},
   "outputs": [
    {
     "name": "stdout",
     "output_type": "stream",
     "text": [
      "Totaly 350 fruits\n"
     ]
    }
   ],
   "source": [
    "def fruit_summ(**fruits):\n",
    "    fruits_amount = sum(fruits.values())\n",
    "    print (f'Totaly {fruits_amount} fruits')\n",
    "    \n",
    "fruit_summ(apples=100, oranges=200, lemons=50)"
   ]
  },
  {
   "cell_type": "markdown",
   "id": "eeea5e91",
   "metadata": {},
   "source": [
    "## Условие 3:\n",
    "Дан список с затратами на рекламу. Но в данных есть ошибки, некоторые затраты имеют отрицательную величину. Удалите такие значения из списка и посчитайте суммарные затраты. Используйте list comprehensions."
   ]
  },
  {
   "cell_type": "code",
   "execution_count": null,
   "id": "6370ec65",
   "metadata": {},
   "outputs": [],
   "source": [
    "[100, 125, -90, 345, 655, -1, 0, 200]"
   ]
  },
  {
   "cell_type": "code",
   "execution_count": 107,
   "id": "904391f9",
   "metadata": {},
   "outputs": [
    {
     "name": "stdout",
     "output_type": "stream",
     "text": [
      "[100, 125, 345, 655, 0, 200]\n"
     ]
    },
    {
     "data": {
      "text/plain": [
       "1425"
      ]
     },
     "execution_count": 107,
     "metadata": {},
     "output_type": "execute_result"
    }
   ],
   "source": [
    "advertising_costs = [100, 125, -90, 345, 655, -1, 0, 200]\n",
    "for i in advertising_costs:\n",
    "    if (i<0):\n",
    "        advertising_costs.remove(i)\n",
    "print(advertising_costs)\n",
    "advertising_costs = sum(advertising_costs[i] for i in range(len(advertising_costs)))\n",
    "advertising_costs"
   ]
  },
  {
   "cell_type": "markdown",
   "id": "55da52b4",
   "metadata": {},
   "source": [
    "## Условие 4:\n",
    "Даны два списка:\n",
    "Дата покупки"
   ]
  },
  {
   "cell_type": "code",
   "execution_count": 4,
   "id": "e452d389",
   "metadata": {},
   "outputs": [],
   "source": [
    "Revenue_date = ['2021-09-14', '2021-12-15', '2021-09-08', '2021-12-05', '2021-10-09', '2021-09-30', '2021-12-22', '2021-11-29', '2021-12-24', '2021-11-26', '2021-10-27', '2021-12-18', '2021-11-09', '2021-11-23', '2021-09-27', '2021-10-02', '2021-12-27', '2021-09-20', '2021-12-13', '2021-11-01', '2021-11-09', '2021-12-06', '2021-12-08', '2021-10-09', '2021-10-31', '2021-09-30', '2021-11-09', '2021-12-13', '2021-10-26', '2021-12-09'] "
   ]
  },
  {
   "cell_type": "markdown",
   "id": "b7889168",
   "metadata": {},
   "source": [
    "Суммы покупок по датам:"
   ]
  },
  {
   "cell_type": "code",
   "execution_count": 5,
   "id": "71219734",
   "metadata": {},
   "outputs": [],
   "source": [
    "Revenue_by_date = [1270, 8413, 9028, 3703, 5739, 4095, 295, 4944, 5723, 3701, 4471, 651, 7037, 4274, 6275, 4988, 6930, 2971, 6592, 2004, 2822, 519, 3406, 2732, 5015, 2008, 316, 6333, 5700, 2887]"
   ]
  },
  {
   "cell_type": "markdown",
   "id": "599e10fe",
   "metadata": {},
   "source": [
    "### 4.1 Найдите, какая выручка у компании в ноябре.\n",
    "Используйте list comprehensions"
   ]
  },
  {
   "cell_type": "code",
   "execution_count": 6,
   "id": "a1b4ea7a",
   "metadata": {},
   "outputs": [
    {
     "data": {
      "text/plain": [
       "25098"
      ]
     },
     "execution_count": 6,
     "metadata": {},
     "output_type": "execute_result"
    }
   ],
   "source": [
    "Revenue_nov = sum([Revenue_by_date[i] for i in range(len(Revenue_date)) if '-11-' in Revenue_date[i]])\n",
    "Revenue_nov\n"
   ]
  },
  {
   "cell_type": "markdown",
   "id": "42dec41f",
   "metadata": {},
   "source": [
    "### 4.2 Найдите выручку компании в зависимости от месяца\n",
    "Для этого напишите функцию, которая на вход принимает список с датами и список с выручкой, а на выходе словарь, где ключи - это месяцы, а значения - это выручка. Используйте аннотирование типов."
   ]
  },
  {
   "cell_type": "code",
   "execution_count": 9,
   "id": "a4dcbef1",
   "metadata": {},
   "outputs": [],
   "source": [
    "def revenue_sum_by_month(l1: list, l2: list) -> dict :\n",
    "    month_set = set()\n",
    "    revenue_sum_month = dict()\n",
    "    revenue_sum_month_list = list()\n",
    "    for i in range(len(l1)):\n",
    "        month_set.add(l1[i][0:7])                              # Преобразовал список дат за год во множество месяцев\n",
    "    month_list = list(month_set)                                # Преобразовал множество месяцев в список\n",
    "    # month_list1 = sorted(month_list, key=lambda x: int(x.split()[-1]))  # Не смог найти способ сортировки списка месяцев по порядку\n",
    "    revenue_sum_month_list = [0 for i in range(len(month_list))] # Заполнил список помесячных итогов нулями\n",
    "    for i in range(len(month_list)):\n",
    "        for j in range(len(l1)):\n",
    "            if (month_list[i] in l1[j]):        # Ищу позицию активного месяца в первоначальном списке дат, с найдённым порядковым номером\n",
    "                revenue_sum_month_list[i]+=l2[j]    # иду в в начальный список выручек, вношу в итоговый список\n",
    "    revenue_sum_month = dict(zip(month_list, revenue_sum_month_list))\n",
    "    return revenue_sum_month"
   ]
  },
  {
   "cell_type": "code",
   "execution_count": 10,
   "id": "0fbee8d1",
   "metadata": {},
   "outputs": [
    {
     "data": {
      "text/plain": [
       "{'2021-11': 25098, '2021-10': 28645, '2021-09': 25647, '2021-12': 45452}"
      ]
     },
     "execution_count": 10,
     "metadata": {},
     "output_type": "execute_result"
    }
   ],
   "source": [
    "revenue_sum_by_month(Revenue_date, Revenue_by_date)"
   ]
  },
  {
   "cell_type": "code",
   "execution_count": null,
   "id": "c7874534",
   "metadata": {},
   "outputs": [],
   "source": []
  }
 ],
 "metadata": {
  "kernelspec": {
   "display_name": "Python 3 (ipykernel)",
   "language": "python",
   "name": "python3"
  },
  "language_info": {
   "codemirror_mode": {
    "name": "ipython",
    "version": 3
   },
   "file_extension": ".py",
   "mimetype": "text/x-python",
   "name": "python",
   "nbconvert_exporter": "python",
   "pygments_lexer": "ipython3",
   "version": "3.10.9"
  }
 },
 "nbformat": 4,
 "nbformat_minor": 5
}
