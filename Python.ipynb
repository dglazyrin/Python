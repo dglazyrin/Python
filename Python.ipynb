{
 "cells": [
  {
   "cell_type": "markdown",
   "id": "944e4733",
   "metadata": {},
   "source": [
    "# Домашнее задание 1"
   ]
  },
  {
   "cell_type": "markdown",
   "id": "12b6eb0d",
   "metadata": {},
   "source": [
    "## Условие 1:"
   ]
  },
  {
   "cell_type": "markdown",
   "id": "6be48533",
   "metadata": {},
   "source": [
    "Оформляйте ноутбук, используя эти советы:\n",
    "Номер задачи - заголовок 2\n",
    "Номер подзадачи - заголовок 3\n",
    "Предоставленные наборы данных оформляйте, как код\n",
    "Рекомендации для преподавателей по оценке задания:\n",
    "Смотреть, чтобы студент красиво оформлял ноутбук, использовал ячейки с текстом, указывал номера заданий"
   ]
  },
  {
   "cell_type": "markdown",
   "id": "51019a62",
   "metadata": {},
   "source": [
    "## Условие 2:"
   ]
  },
  {
   "cell_type": "markdown",
   "id": "ffed1e66",
   "metadata": {},
   "source": [
    "На складе лежат разные фрукты в разном количестве. Нужно написать функцию, которая на вход принимает любое количество названий фруктов и их количество, а возвращает общее количество фруктов на складе."
   ]
  },
  {
   "cell_type": "code",
   "execution_count": 80,
   "id": "ef689d20",
   "metadata": {},
   "outputs": [
    {
     "name": "stdout",
     "output_type": "stream",
     "text": [
      "Totaly 350 fruits\n"
     ]
    }
   ],
   "source": [
    "def fruit_summ(**fruits):\n",
    "    fruits_amount = sum(fruits.values())\n",
    "    print (f'Totaly {fruits_amount} fruits')\n",
    "    \n",
    "fruit_summ(apples=100, oranges=200, lemons=50)"
   ]
  },
  {
   "cell_type": "markdown",
   "id": "eb7968dd",
   "metadata": {},
   "source": [
    "## Условие 3:\n",
    "Дан список с затратами на рекламу. Но в данных есть ошибки, некоторые затраты имеют отрицательную величину. Удалите такие значения из списка и посчитайте суммарные затраты. Используйте list comprehensions."
   ]
  },
  {
   "cell_type": "code",
   "execution_count": null,
   "id": "4855e6e8",
   "metadata": {},
   "outputs": [],
   "source": [
    "[100, 125, -90, 345, 655, -1, 0, 200]"
   ]
  },
  {
   "cell_type": "code",
   "execution_count": 107,
   "id": "e6ae0e44",
   "metadata": {},
   "outputs": [
    {
     "name": "stdout",
     "output_type": "stream",
     "text": [
      "[100, 125, 345, 655, 0, 200]\n"
     ]
    },
    {
     "data": {
      "text/plain": [
       "1425"
      ]
     },
     "execution_count": 107,
     "metadata": {},
     "output_type": "execute_result"
    }
   ],
   "source": [
    "advertising_costs = [100, 125, -90, 345, 655, -1, 0, 200]\n",
    "for i in advertising_costs:\n",
    "    if (i<0):\n",
    "        advertising_costs.remove(i)\n",
    "print(advertising_costs)\n",
    "advertising_costs = sum(advertising_costs[i] for i in range(len(advertising_costs)))\n",
    "advertising_costs"
   ]
  },
  {
   "cell_type": "markdown",
   "id": "295d14f8",
   "metadata": {},
   "source": [
    "## Условие 4:\n",
    "Даны два списка:\n",
    "Дата покупки"
   ]
  },
  {
   "cell_type": "code",
   "execution_count": 186,
   "id": "286e88ab",
   "metadata": {},
   "outputs": [],
   "source": [
    " Revenue_date = ['2021-09-14', '2021-12-15', '2021-09-08', '2021-12-05', '2021-10-09', '2021-09-30', '2021-12-22', '2021-11-29', '2021-12-24', '2021-11-26', '2021-10-27', '2021-12-18', '2021-11-09', '2021-11-23', '2021-09-27', '2021-10-02', '2021-12-27', '2021-09-20', '2021-12-13', '2021-11-01', '2021-11-09', '2021-12-06', '2021-12-08', '2021-10-09', '2021-10-31', '2021-09-30', '2021-11-09', '2021-12-13', '2021-10-26', '2021-12-09'] "
   ]
  },
  {
   "cell_type": "markdown",
   "id": "bd7eb2ed",
   "metadata": {},
   "source": [
    "Суммы покупок по датам:"
   ]
  },
  {
   "cell_type": "code",
   "execution_count": 110,
   "id": "eac39810",
   "metadata": {},
   "outputs": [],
   "source": [
    "Revenue_by_date = [1270, 8413, 9028, 3703, 5739, 4095, 295, 4944, 5723, 3701, 4471, 651, 7037, 4274, 6275, 4988, 6930, 2971, 6592, 2004, 2822, 519, 3406, 2732, 5015, 2008, 316, 6333, 5700, 2887]"
   ]
  },
  {
   "cell_type": "markdown",
   "id": "1b167c09",
   "metadata": {},
   "source": [
    "### 4.1 Найдите, какая выручка у компании в ноябре.\n",
    "Используйте list comprehensions"
   ]
  },
  {
   "cell_type": "code",
   "execution_count": 114,
   "id": "849eb9c6",
   "metadata": {},
   "outputs": [
    {
     "data": {
      "text/plain": [
       "25098"
      ]
     },
     "execution_count": 114,
     "metadata": {},
     "output_type": "execute_result"
    }
   ],
   "source": [
    "Revenue_nov = sum([Revenue_by_date[i] for i in range(len(Revenue_date)) if '-11-' in Revenue_date[i]])\n",
    "Revenue_nov\n"
   ]
  },
  {
   "cell_type": "markdown",
   "id": "3a28bb0c",
   "metadata": {},
   "source": [
    "### 4.2 Найдите выручку компании в зависимости от месяца\n",
    "Для этого напишите функцию, которая на вход принимает список с датами и список с выручкой, а на выходе словарь, где ключи - это месяцы, а значения - это выручка. Используйте аннотирование типов."
   ]
  },
  {
   "cell_type": "code",
   "execution_count": 222,
   "id": "55e13e34",
   "metadata": {},
   "outputs": [],
   "source": [
    "def revenue_sum_by_month(l1: list, l2: list) -> dict :\n",
    "    revenue_sum = {}\n",
    "    month_set = set()\n",
    "    revenue_sum_month = {}\n",
    "    for i in range(len(l1)):\n",
    "        revenue_sum[l1[i]] = l2[i]\n",
    "        month_set.add(l1[i][0:7])\n",
    "    for key in revenue_sum.keys():\n",
    "        for j in month_set:\n",
    "            if ((j in key)):\n",
    "                revenue_sum_month[j]+=revenue_sum[key]\n",
    "    return revenue_sum_month"
   ]
  },
  {
   "cell_type": "code",
   "execution_count": 223,
   "id": "ad7519c6",
   "metadata": {},
   "outputs": [
    {
     "ename": "KeyError",
     "evalue": "'2021-09'",
     "output_type": "error",
     "traceback": [
      "\u001b[1;31m---------------------------------------------------------------------------\u001b[0m",
      "\u001b[1;31mKeyError\u001b[0m                                  Traceback (most recent call last)",
      "Cell \u001b[1;32mIn[223], line 1\u001b[0m\n\u001b[1;32m----> 1\u001b[0m \u001b[43mrevenue_sum_by_month\u001b[49m\u001b[43m(\u001b[49m\u001b[43mRevenue_date\u001b[49m\u001b[43m,\u001b[49m\u001b[43m \u001b[49m\u001b[43mRevenue_by_date\u001b[49m\u001b[43m)\u001b[49m\n",
      "Cell \u001b[1;32mIn[222], line 11\u001b[0m, in \u001b[0;36mrevenue_sum_by_month\u001b[1;34m(l1, l2)\u001b[0m\n\u001b[0;32m      9\u001b[0m     \u001b[38;5;28;01mfor\u001b[39;00m j \u001b[38;5;129;01min\u001b[39;00m month_set:\n\u001b[0;32m     10\u001b[0m         \u001b[38;5;28;01mif\u001b[39;00m ((j \u001b[38;5;129;01min\u001b[39;00m key)):\n\u001b[1;32m---> 11\u001b[0m             revenue_sum_month[j]\u001b[38;5;241m+\u001b[39m\u001b[38;5;241m=\u001b[39mrevenue_sum[key]\n\u001b[0;32m     12\u001b[0m \u001b[38;5;28;01mreturn\u001b[39;00m revenue_sum_month\n",
      "\u001b[1;31mKeyError\u001b[0m: '2021-09'"
     ]
    }
   ],
   "source": [
    "revenue_sum_by_month(Revenue_date, Revenue_by_date)"
   ]
  },
  {
   "cell_type": "code",
   "execution_count": null,
   "id": "4d16f81b",
   "metadata": {},
   "outputs": [],
   "source": []
  }
 ],
 "metadata": {
  "kernelspec": {
   "display_name": "Python 3 (ipykernel)",
   "language": "python",
   "name": "python3"
  },
  "language_info": {
   "codemirror_mode": {
    "name": "ipython",
    "version": 3
   },
   "file_extension": ".py",
   "mimetype": "text/x-python",
   "name": "python",
   "nbconvert_exporter": "python",
   "pygments_lexer": "ipython3",
   "version": "3.10.9"
  }
 },
 "nbformat": 4,
 "nbformat_minor": 5
}
